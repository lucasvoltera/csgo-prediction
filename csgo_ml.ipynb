{
 "cells": [
  {
   "cell_type": "code",
   "execution_count": 1,
   "metadata": {},
   "outputs": [],
   "source": [
    "import pandas as pd\n",
    "import numpy as np\n",
    "import plotly.express as px\n",
    "import matplotlib.pyplot as plt\n",
    "import seaborn as sns\n",
    "from scipy import stats\n",
    "\n",
    "from sklearn.linear_model import LogisticRegression\n",
    "import time\n",
    "\n",
    "from sklearn.svm import SVC\n",
    "#from sklearn.ensemble import GradientBoostingClassifier\n",
    "from sklearn.naive_bayes import GaussianNB\n",
    "from sklearn.tree import DecisionTreeClassifier\n",
    "\n",
    "from xgboost import XGBClassifier\n",
    "\n",
    "from sklearn.neighbors import KNeighborsClassifier\n",
    "from sklearn.ensemble import RandomForestClassifier\n",
    "from sklearn.model_selection import StratifiedKFold, KFold\n",
    "from sklearn.model_selection import GridSearchCV\n",
    "from sklearn.feature_selection import RFE\n",
    "from sklearn.decomposition import PCA\n",
    "from sklearn.preprocessing import StandardScaler\n",
    "from sklearn.preprocessing import MinMaxScaler\n",
    "\n",
    "from sklearn.compose import ColumnTransformer\n",
    "from sklearn.preprocessing import OneHotEncoder\n",
    "from sklearn.preprocessing import MinMaxScaler\n",
    "from sklearn.preprocessing import LabelEncoder\n",
    "\n",
    "from sklearn.pipeline import Pipeline\n",
    "from sklearn.model_selection import cross_val_score\n",
    "from sklearn.model_selection import cross_validate\n",
    "\n",
    "from sklearn.neural_network import MLPClassifier\n",
    "from keras.wrappers.scikit_learn import KerasClassifier\n",
    "from keras.models import Sequential\n",
    "from keras.layers import Dense, Dropout, Activation\n"
   ]
  },
  {
   "cell_type": "markdown",
   "metadata": {},
   "source": [
    "# Import data"
   ]
  },
  {
   "cell_type": "code",
   "execution_count": 2,
   "metadata": {},
   "outputs": [],
   "source": [
    "lobby_players = pd.read_csv('data/lobby_players_explored_and_preprocessed.csv')\n",
    "best_features_lobby_players = pd.read_csv('data/best_features_lobby_players.csv')\n",
    "pca_lobby_players = pd.read_csv('data/pca_raw_data.csv')"
   ]
  },
  {
   "cell_type": "markdown",
   "metadata": {},
   "source": [
    "# Sampling"
   ]
  },
  {
   "cell_type": "code",
   "execution_count": 3,
   "metadata": {},
   "outputs": [
    {
     "name": "stdout",
     "output_type": "stream",
     "text": [
      "lobby: 180992 sample: 100000\n",
      "best features: 182117 sample: 100000\n",
      "pca: 182117 sample: 100000\n"
     ]
    }
   ],
   "source": [
    "n_samples = 100000\n",
    "\n",
    "sample_lobby_players = lobby_players.sample(n = n_samples, random_state = 42)\n",
    "sample_beast_features = best_features_lobby_players.sample(n = n_samples, random_state = 42)\n",
    "sample_pca = pca_lobby_players.sample(n = n_samples, random_state = 42)\n",
    "\n",
    "print('lobby:', len(lobby_players), 'sample:', len(sample_lobby_players))\n",
    "print('best features:', len(best_features_lobby_players), 'sample:', len(sample_beast_features))\n",
    "print('pca:', len(best_features_lobby_players), 'sample:', len(sample_pca))"
   ]
  },
  {
   "cell_type": "code",
   "execution_count": 4,
   "metadata": {},
   "outputs": [
    {
     "data": {
      "application/vnd.plotly.v1+json": {
       "config": {
        "plotlyServerURL": "https://plot.ly"
       },
       "data": [
        {
         "domain": {
          "x": [
           0,
           1
          ],
          "y": [
           0,
           1
          ]
         },
         "hole": 0.6,
         "hoverinfo": "label+percent+name",
         "hovertemplate": "index=%{label}<br>value=%{value}<extra></extra>",
         "labels": [
          0,
          1
         ],
         "legendgroup": "",
         "name": "",
         "showlegend": true,
         "textinfo": "percent+label",
         "textposition": "inside",
         "type": "pie",
         "values": [
          50817,
          49183
         ]
        }
       ],
       "layout": {
        "legend": {
         "tracegroupgap": 0
        },
        "template": {
         "data": {
          "bar": [
           {
            "error_x": {
             "color": "#2a3f5f"
            },
            "error_y": {
             "color": "#2a3f5f"
            },
            "marker": {
             "line": {
              "color": "#E5ECF6",
              "width": 0.5
             },
             "pattern": {
              "fillmode": "overlay",
              "size": 10,
              "solidity": 0.2
             }
            },
            "type": "bar"
           }
          ],
          "barpolar": [
           {
            "marker": {
             "line": {
              "color": "#E5ECF6",
              "width": 0.5
             },
             "pattern": {
              "fillmode": "overlay",
              "size": 10,
              "solidity": 0.2
             }
            },
            "type": "barpolar"
           }
          ],
          "carpet": [
           {
            "aaxis": {
             "endlinecolor": "#2a3f5f",
             "gridcolor": "white",
             "linecolor": "white",
             "minorgridcolor": "white",
             "startlinecolor": "#2a3f5f"
            },
            "baxis": {
             "endlinecolor": "#2a3f5f",
             "gridcolor": "white",
             "linecolor": "white",
             "minorgridcolor": "white",
             "startlinecolor": "#2a3f5f"
            },
            "type": "carpet"
           }
          ],
          "choropleth": [
           {
            "colorbar": {
             "outlinewidth": 0,
             "ticks": ""
            },
            "type": "choropleth"
           }
          ],
          "contour": [
           {
            "colorbar": {
             "outlinewidth": 0,
             "ticks": ""
            },
            "colorscale": [
             [
              0,
              "#0d0887"
             ],
             [
              0.1111111111111111,
              "#46039f"
             ],
             [
              0.2222222222222222,
              "#7201a8"
             ],
             [
              0.3333333333333333,
              "#9c179e"
             ],
             [
              0.4444444444444444,
              "#bd3786"
             ],
             [
              0.5555555555555556,
              "#d8576b"
             ],
             [
              0.6666666666666666,
              "#ed7953"
             ],
             [
              0.7777777777777778,
              "#fb9f3a"
             ],
             [
              0.8888888888888888,
              "#fdca26"
             ],
             [
              1,
              "#f0f921"
             ]
            ],
            "type": "contour"
           }
          ],
          "contourcarpet": [
           {
            "colorbar": {
             "outlinewidth": 0,
             "ticks": ""
            },
            "type": "contourcarpet"
           }
          ],
          "heatmap": [
           {
            "colorbar": {
             "outlinewidth": 0,
             "ticks": ""
            },
            "colorscale": [
             [
              0,
              "#0d0887"
             ],
             [
              0.1111111111111111,
              "#46039f"
             ],
             [
              0.2222222222222222,
              "#7201a8"
             ],
             [
              0.3333333333333333,
              "#9c179e"
             ],
             [
              0.4444444444444444,
              "#bd3786"
             ],
             [
              0.5555555555555556,
              "#d8576b"
             ],
             [
              0.6666666666666666,
              "#ed7953"
             ],
             [
              0.7777777777777778,
              "#fb9f3a"
             ],
             [
              0.8888888888888888,
              "#fdca26"
             ],
             [
              1,
              "#f0f921"
             ]
            ],
            "type": "heatmap"
           }
          ],
          "heatmapgl": [
           {
            "colorbar": {
             "outlinewidth": 0,
             "ticks": ""
            },
            "colorscale": [
             [
              0,
              "#0d0887"
             ],
             [
              0.1111111111111111,
              "#46039f"
             ],
             [
              0.2222222222222222,
              "#7201a8"
             ],
             [
              0.3333333333333333,
              "#9c179e"
             ],
             [
              0.4444444444444444,
              "#bd3786"
             ],
             [
              0.5555555555555556,
              "#d8576b"
             ],
             [
              0.6666666666666666,
              "#ed7953"
             ],
             [
              0.7777777777777778,
              "#fb9f3a"
             ],
             [
              0.8888888888888888,
              "#fdca26"
             ],
             [
              1,
              "#f0f921"
             ]
            ],
            "type": "heatmapgl"
           }
          ],
          "histogram": [
           {
            "marker": {
             "pattern": {
              "fillmode": "overlay",
              "size": 10,
              "solidity": 0.2
             }
            },
            "type": "histogram"
           }
          ],
          "histogram2d": [
           {
            "colorbar": {
             "outlinewidth": 0,
             "ticks": ""
            },
            "colorscale": [
             [
              0,
              "#0d0887"
             ],
             [
              0.1111111111111111,
              "#46039f"
             ],
             [
              0.2222222222222222,
              "#7201a8"
             ],
             [
              0.3333333333333333,
              "#9c179e"
             ],
             [
              0.4444444444444444,
              "#bd3786"
             ],
             [
              0.5555555555555556,
              "#d8576b"
             ],
             [
              0.6666666666666666,
              "#ed7953"
             ],
             [
              0.7777777777777778,
              "#fb9f3a"
             ],
             [
              0.8888888888888888,
              "#fdca26"
             ],
             [
              1,
              "#f0f921"
             ]
            ],
            "type": "histogram2d"
           }
          ],
          "histogram2dcontour": [
           {
            "colorbar": {
             "outlinewidth": 0,
             "ticks": ""
            },
            "colorscale": [
             [
              0,
              "#0d0887"
             ],
             [
              0.1111111111111111,
              "#46039f"
             ],
             [
              0.2222222222222222,
              "#7201a8"
             ],
             [
              0.3333333333333333,
              "#9c179e"
             ],
             [
              0.4444444444444444,
              "#bd3786"
             ],
             [
              0.5555555555555556,
              "#d8576b"
             ],
             [
              0.6666666666666666,
              "#ed7953"
             ],
             [
              0.7777777777777778,
              "#fb9f3a"
             ],
             [
              0.8888888888888888,
              "#fdca26"
             ],
             [
              1,
              "#f0f921"
             ]
            ],
            "type": "histogram2dcontour"
           }
          ],
          "mesh3d": [
           {
            "colorbar": {
             "outlinewidth": 0,
             "ticks": ""
            },
            "type": "mesh3d"
           }
          ],
          "parcoords": [
           {
            "line": {
             "colorbar": {
              "outlinewidth": 0,
              "ticks": ""
             }
            },
            "type": "parcoords"
           }
          ],
          "pie": [
           {
            "automargin": true,
            "type": "pie"
           }
          ],
          "scatter": [
           {
            "fillpattern": {
             "fillmode": "overlay",
             "size": 10,
             "solidity": 0.2
            },
            "type": "scatter"
           }
          ],
          "scatter3d": [
           {
            "line": {
             "colorbar": {
              "outlinewidth": 0,
              "ticks": ""
             }
            },
            "marker": {
             "colorbar": {
              "outlinewidth": 0,
              "ticks": ""
             }
            },
            "type": "scatter3d"
           }
          ],
          "scattercarpet": [
           {
            "marker": {
             "colorbar": {
              "outlinewidth": 0,
              "ticks": ""
             }
            },
            "type": "scattercarpet"
           }
          ],
          "scattergeo": [
           {
            "marker": {
             "colorbar": {
              "outlinewidth": 0,
              "ticks": ""
             }
            },
            "type": "scattergeo"
           }
          ],
          "scattergl": [
           {
            "marker": {
             "colorbar": {
              "outlinewidth": 0,
              "ticks": ""
             }
            },
            "type": "scattergl"
           }
          ],
          "scattermapbox": [
           {
            "marker": {
             "colorbar": {
              "outlinewidth": 0,
              "ticks": ""
             }
            },
            "type": "scattermapbox"
           }
          ],
          "scatterpolar": [
           {
            "marker": {
             "colorbar": {
              "outlinewidth": 0,
              "ticks": ""
             }
            },
            "type": "scatterpolar"
           }
          ],
          "scatterpolargl": [
           {
            "marker": {
             "colorbar": {
              "outlinewidth": 0,
              "ticks": ""
             }
            },
            "type": "scatterpolargl"
           }
          ],
          "scatterternary": [
           {
            "marker": {
             "colorbar": {
              "outlinewidth": 0,
              "ticks": ""
             }
            },
            "type": "scatterternary"
           }
          ],
          "surface": [
           {
            "colorbar": {
             "outlinewidth": 0,
             "ticks": ""
            },
            "colorscale": [
             [
              0,
              "#0d0887"
             ],
             [
              0.1111111111111111,
              "#46039f"
             ],
             [
              0.2222222222222222,
              "#7201a8"
             ],
             [
              0.3333333333333333,
              "#9c179e"
             ],
             [
              0.4444444444444444,
              "#bd3786"
             ],
             [
              0.5555555555555556,
              "#d8576b"
             ],
             [
              0.6666666666666666,
              "#ed7953"
             ],
             [
              0.7777777777777778,
              "#fb9f3a"
             ],
             [
              0.8888888888888888,
              "#fdca26"
             ],
             [
              1,
              "#f0f921"
             ]
            ],
            "type": "surface"
           }
          ],
          "table": [
           {
            "cells": {
             "fill": {
              "color": "#EBF0F8"
             },
             "line": {
              "color": "white"
             }
            },
            "header": {
             "fill": {
              "color": "#C8D4E3"
             },
             "line": {
              "color": "white"
             }
            },
            "type": "table"
           }
          ]
         },
         "layout": {
          "annotationdefaults": {
           "arrowcolor": "#2a3f5f",
           "arrowhead": 0,
           "arrowwidth": 1
          },
          "autotypenumbers": "strict",
          "coloraxis": {
           "colorbar": {
            "outlinewidth": 0,
            "ticks": ""
           }
          },
          "colorscale": {
           "diverging": [
            [
             0,
             "#8e0152"
            ],
            [
             0.1,
             "#c51b7d"
            ],
            [
             0.2,
             "#de77ae"
            ],
            [
             0.3,
             "#f1b6da"
            ],
            [
             0.4,
             "#fde0ef"
            ],
            [
             0.5,
             "#f7f7f7"
            ],
            [
             0.6,
             "#e6f5d0"
            ],
            [
             0.7,
             "#b8e186"
            ],
            [
             0.8,
             "#7fbc41"
            ],
            [
             0.9,
             "#4d9221"
            ],
            [
             1,
             "#276419"
            ]
           ],
           "sequential": [
            [
             0,
             "#0d0887"
            ],
            [
             0.1111111111111111,
             "#46039f"
            ],
            [
             0.2222222222222222,
             "#7201a8"
            ],
            [
             0.3333333333333333,
             "#9c179e"
            ],
            [
             0.4444444444444444,
             "#bd3786"
            ],
            [
             0.5555555555555556,
             "#d8576b"
            ],
            [
             0.6666666666666666,
             "#ed7953"
            ],
            [
             0.7777777777777778,
             "#fb9f3a"
            ],
            [
             0.8888888888888888,
             "#fdca26"
            ],
            [
             1,
             "#f0f921"
            ]
           ],
           "sequentialminus": [
            [
             0,
             "#0d0887"
            ],
            [
             0.1111111111111111,
             "#46039f"
            ],
            [
             0.2222222222222222,
             "#7201a8"
            ],
            [
             0.3333333333333333,
             "#9c179e"
            ],
            [
             0.4444444444444444,
             "#bd3786"
            ],
            [
             0.5555555555555556,
             "#d8576b"
            ],
            [
             0.6666666666666666,
             "#ed7953"
            ],
            [
             0.7777777777777778,
             "#fb9f3a"
            ],
            [
             0.8888888888888888,
             "#fdca26"
            ],
            [
             1,
             "#f0f921"
            ]
           ]
          },
          "colorway": [
           "#636efa",
           "#EF553B",
           "#00cc96",
           "#ab63fa",
           "#FFA15A",
           "#19d3f3",
           "#FF6692",
           "#B6E880",
           "#FF97FF",
           "#FECB52"
          ],
          "font": {
           "color": "#2a3f5f"
          },
          "geo": {
           "bgcolor": "white",
           "lakecolor": "white",
           "landcolor": "#E5ECF6",
           "showlakes": true,
           "showland": true,
           "subunitcolor": "white"
          },
          "hoverlabel": {
           "align": "left"
          },
          "hovermode": "closest",
          "mapbox": {
           "style": "light"
          },
          "paper_bgcolor": "white",
          "plot_bgcolor": "#E5ECF6",
          "polar": {
           "angularaxis": {
            "gridcolor": "white",
            "linecolor": "white",
            "ticks": ""
           },
           "bgcolor": "#E5ECF6",
           "radialaxis": {
            "gridcolor": "white",
            "linecolor": "white",
            "ticks": ""
           }
          },
          "scene": {
           "xaxis": {
            "backgroundcolor": "#E5ECF6",
            "gridcolor": "white",
            "gridwidth": 2,
            "linecolor": "white",
            "showbackground": true,
            "ticks": "",
            "zerolinecolor": "white"
           },
           "yaxis": {
            "backgroundcolor": "#E5ECF6",
            "gridcolor": "white",
            "gridwidth": 2,
            "linecolor": "white",
            "showbackground": true,
            "ticks": "",
            "zerolinecolor": "white"
           },
           "zaxis": {
            "backgroundcolor": "#E5ECF6",
            "gridcolor": "white",
            "gridwidth": 2,
            "linecolor": "white",
            "showbackground": true,
            "ticks": "",
            "zerolinecolor": "white"
           }
          },
          "shapedefaults": {
           "line": {
            "color": "#2a3f5f"
           }
          },
          "ternary": {
           "aaxis": {
            "gridcolor": "white",
            "linecolor": "white",
            "ticks": ""
           },
           "baxis": {
            "gridcolor": "white",
            "linecolor": "white",
            "ticks": ""
           },
           "bgcolor": "#E5ECF6",
           "caxis": {
            "gridcolor": "white",
            "linecolor": "white",
            "ticks": ""
           }
          },
          "title": {
           "x": 0.05
          },
          "xaxis": {
           "automargin": true,
           "gridcolor": "white",
           "linecolor": "white",
           "ticks": "",
           "title": {
            "standoff": 15
           },
           "zerolinecolor": "white",
           "zerolinewidth": 2
          },
          "yaxis": {
           "automargin": true,
           "gridcolor": "white",
           "linecolor": "white",
           "ticks": "",
           "title": {
            "standoff": 15
           },
           "zerolinecolor": "white",
           "zerolinewidth": 2
          }
         }
        },
        "title": {
         "text": "Sample lobby players"
        },
        "width": 800
       }
      }
     },
     "metadata": {},
     "output_type": "display_data"
    },
    {
     "data": {
      "application/vnd.plotly.v1+json": {
       "config": {
        "plotlyServerURL": "https://plot.ly"
       },
       "data": [
        {
         "domain": {
          "x": [
           0,
           1
          ],
          "y": [
           0,
           1
          ]
         },
         "hole": 0.6,
         "hoverinfo": "label+percent+name",
         "hovertemplate": "index=%{label}<br>value=%{value}<extra></extra>",
         "labels": [
          0,
          1
         ],
         "legendgroup": "",
         "name": "",
         "showlegend": true,
         "textinfo": "percent+label",
         "textposition": "inside",
         "type": "pie",
         "values": [
          50706,
          49294
         ]
        }
       ],
       "layout": {
        "legend": {
         "tracegroupgap": 0
        },
        "template": {
         "data": {
          "bar": [
           {
            "error_x": {
             "color": "#2a3f5f"
            },
            "error_y": {
             "color": "#2a3f5f"
            },
            "marker": {
             "line": {
              "color": "#E5ECF6",
              "width": 0.5
             },
             "pattern": {
              "fillmode": "overlay",
              "size": 10,
              "solidity": 0.2
             }
            },
            "type": "bar"
           }
          ],
          "barpolar": [
           {
            "marker": {
             "line": {
              "color": "#E5ECF6",
              "width": 0.5
             },
             "pattern": {
              "fillmode": "overlay",
              "size": 10,
              "solidity": 0.2
             }
            },
            "type": "barpolar"
           }
          ],
          "carpet": [
           {
            "aaxis": {
             "endlinecolor": "#2a3f5f",
             "gridcolor": "white",
             "linecolor": "white",
             "minorgridcolor": "white",
             "startlinecolor": "#2a3f5f"
            },
            "baxis": {
             "endlinecolor": "#2a3f5f",
             "gridcolor": "white",
             "linecolor": "white",
             "minorgridcolor": "white",
             "startlinecolor": "#2a3f5f"
            },
            "type": "carpet"
           }
          ],
          "choropleth": [
           {
            "colorbar": {
             "outlinewidth": 0,
             "ticks": ""
            },
            "type": "choropleth"
           }
          ],
          "contour": [
           {
            "colorbar": {
             "outlinewidth": 0,
             "ticks": ""
            },
            "colorscale": [
             [
              0,
              "#0d0887"
             ],
             [
              0.1111111111111111,
              "#46039f"
             ],
             [
              0.2222222222222222,
              "#7201a8"
             ],
             [
              0.3333333333333333,
              "#9c179e"
             ],
             [
              0.4444444444444444,
              "#bd3786"
             ],
             [
              0.5555555555555556,
              "#d8576b"
             ],
             [
              0.6666666666666666,
              "#ed7953"
             ],
             [
              0.7777777777777778,
              "#fb9f3a"
             ],
             [
              0.8888888888888888,
              "#fdca26"
             ],
             [
              1,
              "#f0f921"
             ]
            ],
            "type": "contour"
           }
          ],
          "contourcarpet": [
           {
            "colorbar": {
             "outlinewidth": 0,
             "ticks": ""
            },
            "type": "contourcarpet"
           }
          ],
          "heatmap": [
           {
            "colorbar": {
             "outlinewidth": 0,
             "ticks": ""
            },
            "colorscale": [
             [
              0,
              "#0d0887"
             ],
             [
              0.1111111111111111,
              "#46039f"
             ],
             [
              0.2222222222222222,
              "#7201a8"
             ],
             [
              0.3333333333333333,
              "#9c179e"
             ],
             [
              0.4444444444444444,
              "#bd3786"
             ],
             [
              0.5555555555555556,
              "#d8576b"
             ],
             [
              0.6666666666666666,
              "#ed7953"
             ],
             [
              0.7777777777777778,
              "#fb9f3a"
             ],
             [
              0.8888888888888888,
              "#fdca26"
             ],
             [
              1,
              "#f0f921"
             ]
            ],
            "type": "heatmap"
           }
          ],
          "heatmapgl": [
           {
            "colorbar": {
             "outlinewidth": 0,
             "ticks": ""
            },
            "colorscale": [
             [
              0,
              "#0d0887"
             ],
             [
              0.1111111111111111,
              "#46039f"
             ],
             [
              0.2222222222222222,
              "#7201a8"
             ],
             [
              0.3333333333333333,
              "#9c179e"
             ],
             [
              0.4444444444444444,
              "#bd3786"
             ],
             [
              0.5555555555555556,
              "#d8576b"
             ],
             [
              0.6666666666666666,
              "#ed7953"
             ],
             [
              0.7777777777777778,
              "#fb9f3a"
             ],
             [
              0.8888888888888888,
              "#fdca26"
             ],
             [
              1,
              "#f0f921"
             ]
            ],
            "type": "heatmapgl"
           }
          ],
          "histogram": [
           {
            "marker": {
             "pattern": {
              "fillmode": "overlay",
              "size": 10,
              "solidity": 0.2
             }
            },
            "type": "histogram"
           }
          ],
          "histogram2d": [
           {
            "colorbar": {
             "outlinewidth": 0,
             "ticks": ""
            },
            "colorscale": [
             [
              0,
              "#0d0887"
             ],
             [
              0.1111111111111111,
              "#46039f"
             ],
             [
              0.2222222222222222,
              "#7201a8"
             ],
             [
              0.3333333333333333,
              "#9c179e"
             ],
             [
              0.4444444444444444,
              "#bd3786"
             ],
             [
              0.5555555555555556,
              "#d8576b"
             ],
             [
              0.6666666666666666,
              "#ed7953"
             ],
             [
              0.7777777777777778,
              "#fb9f3a"
             ],
             [
              0.8888888888888888,
              "#fdca26"
             ],
             [
              1,
              "#f0f921"
             ]
            ],
            "type": "histogram2d"
           }
          ],
          "histogram2dcontour": [
           {
            "colorbar": {
             "outlinewidth": 0,
             "ticks": ""
            },
            "colorscale": [
             [
              0,
              "#0d0887"
             ],
             [
              0.1111111111111111,
              "#46039f"
             ],
             [
              0.2222222222222222,
              "#7201a8"
             ],
             [
              0.3333333333333333,
              "#9c179e"
             ],
             [
              0.4444444444444444,
              "#bd3786"
             ],
             [
              0.5555555555555556,
              "#d8576b"
             ],
             [
              0.6666666666666666,
              "#ed7953"
             ],
             [
              0.7777777777777778,
              "#fb9f3a"
             ],
             [
              0.8888888888888888,
              "#fdca26"
             ],
             [
              1,
              "#f0f921"
             ]
            ],
            "type": "histogram2dcontour"
           }
          ],
          "mesh3d": [
           {
            "colorbar": {
             "outlinewidth": 0,
             "ticks": ""
            },
            "type": "mesh3d"
           }
          ],
          "parcoords": [
           {
            "line": {
             "colorbar": {
              "outlinewidth": 0,
              "ticks": ""
             }
            },
            "type": "parcoords"
           }
          ],
          "pie": [
           {
            "automargin": true,
            "type": "pie"
           }
          ],
          "scatter": [
           {
            "fillpattern": {
             "fillmode": "overlay",
             "size": 10,
             "solidity": 0.2
            },
            "type": "scatter"
           }
          ],
          "scatter3d": [
           {
            "line": {
             "colorbar": {
              "outlinewidth": 0,
              "ticks": ""
             }
            },
            "marker": {
             "colorbar": {
              "outlinewidth": 0,
              "ticks": ""
             }
            },
            "type": "scatter3d"
           }
          ],
          "scattercarpet": [
           {
            "marker": {
             "colorbar": {
              "outlinewidth": 0,
              "ticks": ""
             }
            },
            "type": "scattercarpet"
           }
          ],
          "scattergeo": [
           {
            "marker": {
             "colorbar": {
              "outlinewidth": 0,
              "ticks": ""
             }
            },
            "type": "scattergeo"
           }
          ],
          "scattergl": [
           {
            "marker": {
             "colorbar": {
              "outlinewidth": 0,
              "ticks": ""
             }
            },
            "type": "scattergl"
           }
          ],
          "scattermapbox": [
           {
            "marker": {
             "colorbar": {
              "outlinewidth": 0,
              "ticks": ""
             }
            },
            "type": "scattermapbox"
           }
          ],
          "scatterpolar": [
           {
            "marker": {
             "colorbar": {
              "outlinewidth": 0,
              "ticks": ""
             }
            },
            "type": "scatterpolar"
           }
          ],
          "scatterpolargl": [
           {
            "marker": {
             "colorbar": {
              "outlinewidth": 0,
              "ticks": ""
             }
            },
            "type": "scatterpolargl"
           }
          ],
          "scatterternary": [
           {
            "marker": {
             "colorbar": {
              "outlinewidth": 0,
              "ticks": ""
             }
            },
            "type": "scatterternary"
           }
          ],
          "surface": [
           {
            "colorbar": {
             "outlinewidth": 0,
             "ticks": ""
            },
            "colorscale": [
             [
              0,
              "#0d0887"
             ],
             [
              0.1111111111111111,
              "#46039f"
             ],
             [
              0.2222222222222222,
              "#7201a8"
             ],
             [
              0.3333333333333333,
              "#9c179e"
             ],
             [
              0.4444444444444444,
              "#bd3786"
             ],
             [
              0.5555555555555556,
              "#d8576b"
             ],
             [
              0.6666666666666666,
              "#ed7953"
             ],
             [
              0.7777777777777778,
              "#fb9f3a"
             ],
             [
              0.8888888888888888,
              "#fdca26"
             ],
             [
              1,
              "#f0f921"
             ]
            ],
            "type": "surface"
           }
          ],
          "table": [
           {
            "cells": {
             "fill": {
              "color": "#EBF0F8"
             },
             "line": {
              "color": "white"
             }
            },
            "header": {
             "fill": {
              "color": "#C8D4E3"
             },
             "line": {
              "color": "white"
             }
            },
            "type": "table"
           }
          ]
         },
         "layout": {
          "annotationdefaults": {
           "arrowcolor": "#2a3f5f",
           "arrowhead": 0,
           "arrowwidth": 1
          },
          "autotypenumbers": "strict",
          "coloraxis": {
           "colorbar": {
            "outlinewidth": 0,
            "ticks": ""
           }
          },
          "colorscale": {
           "diverging": [
            [
             0,
             "#8e0152"
            ],
            [
             0.1,
             "#c51b7d"
            ],
            [
             0.2,
             "#de77ae"
            ],
            [
             0.3,
             "#f1b6da"
            ],
            [
             0.4,
             "#fde0ef"
            ],
            [
             0.5,
             "#f7f7f7"
            ],
            [
             0.6,
             "#e6f5d0"
            ],
            [
             0.7,
             "#b8e186"
            ],
            [
             0.8,
             "#7fbc41"
            ],
            [
             0.9,
             "#4d9221"
            ],
            [
             1,
             "#276419"
            ]
           ],
           "sequential": [
            [
             0,
             "#0d0887"
            ],
            [
             0.1111111111111111,
             "#46039f"
            ],
            [
             0.2222222222222222,
             "#7201a8"
            ],
            [
             0.3333333333333333,
             "#9c179e"
            ],
            [
             0.4444444444444444,
             "#bd3786"
            ],
            [
             0.5555555555555556,
             "#d8576b"
            ],
            [
             0.6666666666666666,
             "#ed7953"
            ],
            [
             0.7777777777777778,
             "#fb9f3a"
            ],
            [
             0.8888888888888888,
             "#fdca26"
            ],
            [
             1,
             "#f0f921"
            ]
           ],
           "sequentialminus": [
            [
             0,
             "#0d0887"
            ],
            [
             0.1111111111111111,
             "#46039f"
            ],
            [
             0.2222222222222222,
             "#7201a8"
            ],
            [
             0.3333333333333333,
             "#9c179e"
            ],
            [
             0.4444444444444444,
             "#bd3786"
            ],
            [
             0.5555555555555556,
             "#d8576b"
            ],
            [
             0.6666666666666666,
             "#ed7953"
            ],
            [
             0.7777777777777778,
             "#fb9f3a"
            ],
            [
             0.8888888888888888,
             "#fdca26"
            ],
            [
             1,
             "#f0f921"
            ]
           ]
          },
          "colorway": [
           "#636efa",
           "#EF553B",
           "#00cc96",
           "#ab63fa",
           "#FFA15A",
           "#19d3f3",
           "#FF6692",
           "#B6E880",
           "#FF97FF",
           "#FECB52"
          ],
          "font": {
           "color": "#2a3f5f"
          },
          "geo": {
           "bgcolor": "white",
           "lakecolor": "white",
           "landcolor": "#E5ECF6",
           "showlakes": true,
           "showland": true,
           "subunitcolor": "white"
          },
          "hoverlabel": {
           "align": "left"
          },
          "hovermode": "closest",
          "mapbox": {
           "style": "light"
          },
          "paper_bgcolor": "white",
          "plot_bgcolor": "#E5ECF6",
          "polar": {
           "angularaxis": {
            "gridcolor": "white",
            "linecolor": "white",
            "ticks": ""
           },
           "bgcolor": "#E5ECF6",
           "radialaxis": {
            "gridcolor": "white",
            "linecolor": "white",
            "ticks": ""
           }
          },
          "scene": {
           "xaxis": {
            "backgroundcolor": "#E5ECF6",
            "gridcolor": "white",
            "gridwidth": 2,
            "linecolor": "white",
            "showbackground": true,
            "ticks": "",
            "zerolinecolor": "white"
           },
           "yaxis": {
            "backgroundcolor": "#E5ECF6",
            "gridcolor": "white",
            "gridwidth": 2,
            "linecolor": "white",
            "showbackground": true,
            "ticks": "",
            "zerolinecolor": "white"
           },
           "zaxis": {
            "backgroundcolor": "#E5ECF6",
            "gridcolor": "white",
            "gridwidth": 2,
            "linecolor": "white",
            "showbackground": true,
            "ticks": "",
            "zerolinecolor": "white"
           }
          },
          "shapedefaults": {
           "line": {
            "color": "#2a3f5f"
           }
          },
          "ternary": {
           "aaxis": {
            "gridcolor": "white",
            "linecolor": "white",
            "ticks": ""
           },
           "baxis": {
            "gridcolor": "white",
            "linecolor": "white",
            "ticks": ""
           },
           "bgcolor": "#E5ECF6",
           "caxis": {
            "gridcolor": "white",
            "linecolor": "white",
            "ticks": ""
           }
          },
          "title": {
           "x": 0.05
          },
          "xaxis": {
           "automargin": true,
           "gridcolor": "white",
           "linecolor": "white",
           "ticks": "",
           "title": {
            "standoff": 15
           },
           "zerolinecolor": "white",
           "zerolinewidth": 2
          },
          "yaxis": {
           "automargin": true,
           "gridcolor": "white",
           "linecolor": "white",
           "ticks": "",
           "title": {
            "standoff": 15
           },
           "zerolinecolor": "white",
           "zerolinewidth": 2
          }
         }
        },
        "title": {
         "text": "Sample best features from lobby players"
        },
        "width": 800
       }
      }
     },
     "metadata": {},
     "output_type": "display_data"
    },
    {
     "data": {
      "application/vnd.plotly.v1+json": {
       "config": {
        "plotlyServerURL": "https://plot.ly"
       },
       "data": [
        {
         "domain": {
          "x": [
           0,
           1
          ],
          "y": [
           0,
           1
          ]
         },
         "hole": 0.6,
         "hoverinfo": "label+percent+name",
         "hovertemplate": "index=%{label}<br>value=%{value}<extra></extra>",
         "labels": [
          0,
          1
         ],
         "legendgroup": "",
         "name": "",
         "showlegend": true,
         "textinfo": "percent+label",
         "textposition": "inside",
         "type": "pie",
         "values": [
          50817,
          49183
         ]
        }
       ],
       "layout": {
        "legend": {
         "tracegroupgap": 0
        },
        "template": {
         "data": {
          "bar": [
           {
            "error_x": {
             "color": "#2a3f5f"
            },
            "error_y": {
             "color": "#2a3f5f"
            },
            "marker": {
             "line": {
              "color": "#E5ECF6",
              "width": 0.5
             },
             "pattern": {
              "fillmode": "overlay",
              "size": 10,
              "solidity": 0.2
             }
            },
            "type": "bar"
           }
          ],
          "barpolar": [
           {
            "marker": {
             "line": {
              "color": "#E5ECF6",
              "width": 0.5
             },
             "pattern": {
              "fillmode": "overlay",
              "size": 10,
              "solidity": 0.2
             }
            },
            "type": "barpolar"
           }
          ],
          "carpet": [
           {
            "aaxis": {
             "endlinecolor": "#2a3f5f",
             "gridcolor": "white",
             "linecolor": "white",
             "minorgridcolor": "white",
             "startlinecolor": "#2a3f5f"
            },
            "baxis": {
             "endlinecolor": "#2a3f5f",
             "gridcolor": "white",
             "linecolor": "white",
             "minorgridcolor": "white",
             "startlinecolor": "#2a3f5f"
            },
            "type": "carpet"
           }
          ],
          "choropleth": [
           {
            "colorbar": {
             "outlinewidth": 0,
             "ticks": ""
            },
            "type": "choropleth"
           }
          ],
          "contour": [
           {
            "colorbar": {
             "outlinewidth": 0,
             "ticks": ""
            },
            "colorscale": [
             [
              0,
              "#0d0887"
             ],
             [
              0.1111111111111111,
              "#46039f"
             ],
             [
              0.2222222222222222,
              "#7201a8"
             ],
             [
              0.3333333333333333,
              "#9c179e"
             ],
             [
              0.4444444444444444,
              "#bd3786"
             ],
             [
              0.5555555555555556,
              "#d8576b"
             ],
             [
              0.6666666666666666,
              "#ed7953"
             ],
             [
              0.7777777777777778,
              "#fb9f3a"
             ],
             [
              0.8888888888888888,
              "#fdca26"
             ],
             [
              1,
              "#f0f921"
             ]
            ],
            "type": "contour"
           }
          ],
          "contourcarpet": [
           {
            "colorbar": {
             "outlinewidth": 0,
             "ticks": ""
            },
            "type": "contourcarpet"
           }
          ],
          "heatmap": [
           {
            "colorbar": {
             "outlinewidth": 0,
             "ticks": ""
            },
            "colorscale": [
             [
              0,
              "#0d0887"
             ],
             [
              0.1111111111111111,
              "#46039f"
             ],
             [
              0.2222222222222222,
              "#7201a8"
             ],
             [
              0.3333333333333333,
              "#9c179e"
             ],
             [
              0.4444444444444444,
              "#bd3786"
             ],
             [
              0.5555555555555556,
              "#d8576b"
             ],
             [
              0.6666666666666666,
              "#ed7953"
             ],
             [
              0.7777777777777778,
              "#fb9f3a"
             ],
             [
              0.8888888888888888,
              "#fdca26"
             ],
             [
              1,
              "#f0f921"
             ]
            ],
            "type": "heatmap"
           }
          ],
          "heatmapgl": [
           {
            "colorbar": {
             "outlinewidth": 0,
             "ticks": ""
            },
            "colorscale": [
             [
              0,
              "#0d0887"
             ],
             [
              0.1111111111111111,
              "#46039f"
             ],
             [
              0.2222222222222222,
              "#7201a8"
             ],
             [
              0.3333333333333333,
              "#9c179e"
             ],
             [
              0.4444444444444444,
              "#bd3786"
             ],
             [
              0.5555555555555556,
              "#d8576b"
             ],
             [
              0.6666666666666666,
              "#ed7953"
             ],
             [
              0.7777777777777778,
              "#fb9f3a"
             ],
             [
              0.8888888888888888,
              "#fdca26"
             ],
             [
              1,
              "#f0f921"
             ]
            ],
            "type": "heatmapgl"
           }
          ],
          "histogram": [
           {
            "marker": {
             "pattern": {
              "fillmode": "overlay",
              "size": 10,
              "solidity": 0.2
             }
            },
            "type": "histogram"
           }
          ],
          "histogram2d": [
           {
            "colorbar": {
             "outlinewidth": 0,
             "ticks": ""
            },
            "colorscale": [
             [
              0,
              "#0d0887"
             ],
             [
              0.1111111111111111,
              "#46039f"
             ],
             [
              0.2222222222222222,
              "#7201a8"
             ],
             [
              0.3333333333333333,
              "#9c179e"
             ],
             [
              0.4444444444444444,
              "#bd3786"
             ],
             [
              0.5555555555555556,
              "#d8576b"
             ],
             [
              0.6666666666666666,
              "#ed7953"
             ],
             [
              0.7777777777777778,
              "#fb9f3a"
             ],
             [
              0.8888888888888888,
              "#fdca26"
             ],
             [
              1,
              "#f0f921"
             ]
            ],
            "type": "histogram2d"
           }
          ],
          "histogram2dcontour": [
           {
            "colorbar": {
             "outlinewidth": 0,
             "ticks": ""
            },
            "colorscale": [
             [
              0,
              "#0d0887"
             ],
             [
              0.1111111111111111,
              "#46039f"
             ],
             [
              0.2222222222222222,
              "#7201a8"
             ],
             [
              0.3333333333333333,
              "#9c179e"
             ],
             [
              0.4444444444444444,
              "#bd3786"
             ],
             [
              0.5555555555555556,
              "#d8576b"
             ],
             [
              0.6666666666666666,
              "#ed7953"
             ],
             [
              0.7777777777777778,
              "#fb9f3a"
             ],
             [
              0.8888888888888888,
              "#fdca26"
             ],
             [
              1,
              "#f0f921"
             ]
            ],
            "type": "histogram2dcontour"
           }
          ],
          "mesh3d": [
           {
            "colorbar": {
             "outlinewidth": 0,
             "ticks": ""
            },
            "type": "mesh3d"
           }
          ],
          "parcoords": [
           {
            "line": {
             "colorbar": {
              "outlinewidth": 0,
              "ticks": ""
             }
            },
            "type": "parcoords"
           }
          ],
          "pie": [
           {
            "automargin": true,
            "type": "pie"
           }
          ],
          "scatter": [
           {
            "fillpattern": {
             "fillmode": "overlay",
             "size": 10,
             "solidity": 0.2
            },
            "type": "scatter"
           }
          ],
          "scatter3d": [
           {
            "line": {
             "colorbar": {
              "outlinewidth": 0,
              "ticks": ""
             }
            },
            "marker": {
             "colorbar": {
              "outlinewidth": 0,
              "ticks": ""
             }
            },
            "type": "scatter3d"
           }
          ],
          "scattercarpet": [
           {
            "marker": {
             "colorbar": {
              "outlinewidth": 0,
              "ticks": ""
             }
            },
            "type": "scattercarpet"
           }
          ],
          "scattergeo": [
           {
            "marker": {
             "colorbar": {
              "outlinewidth": 0,
              "ticks": ""
             }
            },
            "type": "scattergeo"
           }
          ],
          "scattergl": [
           {
            "marker": {
             "colorbar": {
              "outlinewidth": 0,
              "ticks": ""
             }
            },
            "type": "scattergl"
           }
          ],
          "scattermapbox": [
           {
            "marker": {
             "colorbar": {
              "outlinewidth": 0,
              "ticks": ""
             }
            },
            "type": "scattermapbox"
           }
          ],
          "scatterpolar": [
           {
            "marker": {
             "colorbar": {
              "outlinewidth": 0,
              "ticks": ""
             }
            },
            "type": "scatterpolar"
           }
          ],
          "scatterpolargl": [
           {
            "marker": {
             "colorbar": {
              "outlinewidth": 0,
              "ticks": ""
             }
            },
            "type": "scatterpolargl"
           }
          ],
          "scatterternary": [
           {
            "marker": {
             "colorbar": {
              "outlinewidth": 0,
              "ticks": ""
             }
            },
            "type": "scatterternary"
           }
          ],
          "surface": [
           {
            "colorbar": {
             "outlinewidth": 0,
             "ticks": ""
            },
            "colorscale": [
             [
              0,
              "#0d0887"
             ],
             [
              0.1111111111111111,
              "#46039f"
             ],
             [
              0.2222222222222222,
              "#7201a8"
             ],
             [
              0.3333333333333333,
              "#9c179e"
             ],
             [
              0.4444444444444444,
              "#bd3786"
             ],
             [
              0.5555555555555556,
              "#d8576b"
             ],
             [
              0.6666666666666666,
              "#ed7953"
             ],
             [
              0.7777777777777778,
              "#fb9f3a"
             ],
             [
              0.8888888888888888,
              "#fdca26"
             ],
             [
              1,
              "#f0f921"
             ]
            ],
            "type": "surface"
           }
          ],
          "table": [
           {
            "cells": {
             "fill": {
              "color": "#EBF0F8"
             },
             "line": {
              "color": "white"
             }
            },
            "header": {
             "fill": {
              "color": "#C8D4E3"
             },
             "line": {
              "color": "white"
             }
            },
            "type": "table"
           }
          ]
         },
         "layout": {
          "annotationdefaults": {
           "arrowcolor": "#2a3f5f",
           "arrowhead": 0,
           "arrowwidth": 1
          },
          "autotypenumbers": "strict",
          "coloraxis": {
           "colorbar": {
            "outlinewidth": 0,
            "ticks": ""
           }
          },
          "colorscale": {
           "diverging": [
            [
             0,
             "#8e0152"
            ],
            [
             0.1,
             "#c51b7d"
            ],
            [
             0.2,
             "#de77ae"
            ],
            [
             0.3,
             "#f1b6da"
            ],
            [
             0.4,
             "#fde0ef"
            ],
            [
             0.5,
             "#f7f7f7"
            ],
            [
             0.6,
             "#e6f5d0"
            ],
            [
             0.7,
             "#b8e186"
            ],
            [
             0.8,
             "#7fbc41"
            ],
            [
             0.9,
             "#4d9221"
            ],
            [
             1,
             "#276419"
            ]
           ],
           "sequential": [
            [
             0,
             "#0d0887"
            ],
            [
             0.1111111111111111,
             "#46039f"
            ],
            [
             0.2222222222222222,
             "#7201a8"
            ],
            [
             0.3333333333333333,
             "#9c179e"
            ],
            [
             0.4444444444444444,
             "#bd3786"
            ],
            [
             0.5555555555555556,
             "#d8576b"
            ],
            [
             0.6666666666666666,
             "#ed7953"
            ],
            [
             0.7777777777777778,
             "#fb9f3a"
            ],
            [
             0.8888888888888888,
             "#fdca26"
            ],
            [
             1,
             "#f0f921"
            ]
           ],
           "sequentialminus": [
            [
             0,
             "#0d0887"
            ],
            [
             0.1111111111111111,
             "#46039f"
            ],
            [
             0.2222222222222222,
             "#7201a8"
            ],
            [
             0.3333333333333333,
             "#9c179e"
            ],
            [
             0.4444444444444444,
             "#bd3786"
            ],
            [
             0.5555555555555556,
             "#d8576b"
            ],
            [
             0.6666666666666666,
             "#ed7953"
            ],
            [
             0.7777777777777778,
             "#fb9f3a"
            ],
            [
             0.8888888888888888,
             "#fdca26"
            ],
            [
             1,
             "#f0f921"
            ]
           ]
          },
          "colorway": [
           "#636efa",
           "#EF553B",
           "#00cc96",
           "#ab63fa",
           "#FFA15A",
           "#19d3f3",
           "#FF6692",
           "#B6E880",
           "#FF97FF",
           "#FECB52"
          ],
          "font": {
           "color": "#2a3f5f"
          },
          "geo": {
           "bgcolor": "white",
           "lakecolor": "white",
           "landcolor": "#E5ECF6",
           "showlakes": true,
           "showland": true,
           "subunitcolor": "white"
          },
          "hoverlabel": {
           "align": "left"
          },
          "hovermode": "closest",
          "mapbox": {
           "style": "light"
          },
          "paper_bgcolor": "white",
          "plot_bgcolor": "#E5ECF6",
          "polar": {
           "angularaxis": {
            "gridcolor": "white",
            "linecolor": "white",
            "ticks": ""
           },
           "bgcolor": "#E5ECF6",
           "radialaxis": {
            "gridcolor": "white",
            "linecolor": "white",
            "ticks": ""
           }
          },
          "scene": {
           "xaxis": {
            "backgroundcolor": "#E5ECF6",
            "gridcolor": "white",
            "gridwidth": 2,
            "linecolor": "white",
            "showbackground": true,
            "ticks": "",
            "zerolinecolor": "white"
           },
           "yaxis": {
            "backgroundcolor": "#E5ECF6",
            "gridcolor": "white",
            "gridwidth": 2,
            "linecolor": "white",
            "showbackground": true,
            "ticks": "",
            "zerolinecolor": "white"
           },
           "zaxis": {
            "backgroundcolor": "#E5ECF6",
            "gridcolor": "white",
            "gridwidth": 2,
            "linecolor": "white",
            "showbackground": true,
            "ticks": "",
            "zerolinecolor": "white"
           }
          },
          "shapedefaults": {
           "line": {
            "color": "#2a3f5f"
           }
          },
          "ternary": {
           "aaxis": {
            "gridcolor": "white",
            "linecolor": "white",
            "ticks": ""
           },
           "baxis": {
            "gridcolor": "white",
            "linecolor": "white",
            "ticks": ""
           },
           "bgcolor": "#E5ECF6",
           "caxis": {
            "gridcolor": "white",
            "linecolor": "white",
            "ticks": ""
           }
          },
          "title": {
           "x": 0.05
          },
          "xaxis": {
           "automargin": true,
           "gridcolor": "white",
           "linecolor": "white",
           "ticks": "",
           "title": {
            "standoff": 15
           },
           "zerolinecolor": "white",
           "zerolinewidth": 2
          },
          "yaxis": {
           "automargin": true,
           "gridcolor": "white",
           "linecolor": "white",
           "ticks": "",
           "title": {
            "standoff": 15
           },
           "zerolinecolor": "white",
           "zerolinewidth": 2
          }
         }
        },
        "title": {
         "text": "Sample pca from lobby players"
        },
        "width": 800
       }
      }
     },
     "metadata": {},
     "output_type": "display_data"
    }
   ],
   "source": [
    "def create_donut_plot(data, target_variable, title):\n",
    "    target_count = data[target_variable].value_counts()\n",
    "    fig = px.pie(target_count, values=target_count.values, names=target_count.index, title=title, width=800)\n",
    "    fig.update_traces(textposition='inside', textinfo='percent+label')\n",
    "    fig.update_traces(hole=0.6, hoverinfo=\"label+percent+name\")\n",
    "    fig.show()\n",
    "\n",
    "create_donut_plot(sample_lobby_players, 'flWinner', 'Sample lobby players')\n",
    "create_donut_plot(sample_beast_features, 'flWinner', 'Sample best features from lobby players')\n",
    "create_donut_plot(sample_pca, 'flWinner', 'Sample pca from lobby players')"
   ]
  },
  {
   "cell_type": "markdown",
   "metadata": {},
   "source": [
    "# Preparing models"
   ]
  },
  {
   "cell_type": "code",
   "execution_count": 5,
   "metadata": {},
   "outputs": [],
   "source": [
    "def splitData(df, dropList, target):\n",
    "    x = df.drop(dropList, axis = 1)\n",
    "    y = df[target]\n",
    "    return x, y\n",
    "\n",
    "def mergeDataframes(df1, df2):\n",
    "    mergedDf = pd.concat([df1, df2], axis = 1)\n",
    "    return mergedDf\n",
    "\n",
    "def separateFeatures(X, catVariables):\n",
    "    numVariables = X.drop(catVariables, axis = 1).columns\n",
    "    return catVariables, numVariables\n",
    "\n",
    "def removeUselessColumns(df, columns):\n",
    "    new_df = df.drop(columns, axis = 1)\n",
    "    return new_df\n",
    "\n",
    "\n",
    "def numHiddenLayers(num_features):\n",
    "    if num_features <= 10:\n",
    "        return 1\n",
    "    elif num_features <= 20:\n",
    "        return 2\n",
    "    else:\n",
    "        return 3\n",
    "\n",
    "\n",
    "def neuronsPerLayer(num_features, num_hidden_layers):\n",
    "    neurons_per_layer = [num_features] + [num_features // (2 ** i) for i in range(num_hidden_layers)] + [1]\n",
    "    return neurons_per_layer\n",
    "\n",
    "\n",
    "\n",
    "def createANN(activation='relu', optimizer='adam', loss='binary_crossentropy', metrics=['accuracy']):\n",
    "    num_hidden_layers = numHiddenLayers(num_of_features)\n",
    "    neurons_per_layer = neuronsPerLayer(num_of_features, num_hidden_layers)\n",
    "\n",
    "    model = Sequential()\n",
    "    model.add(Dense(units=neurons_per_layer[0], activation=activation, input_shape=(num_of_features,)))\n",
    "\n",
    "    for units in neurons_per_layer[1:-1]:\n",
    "        model.add(Dense(units=units, activation=activation))\n",
    "\n",
    "    model.add(Dense(units=neurons_per_layer[-1], activation='sigmoid'))\n",
    "\n",
    "    model.compile(optimizer=optimizer, loss=loss, metrics=metrics)\n",
    "    return model\n",
    "\n",
    "\n",
    "def create_baseline_models(preprocessor):\n",
    "    models = {\n",
    "        'Logistic Regression': LogisticRegression(),\n",
    "        'Random Forest': RandomForestClassifier(),\n",
    "        'KNN': KNeighborsClassifier(),\n",
    "        'XGBoost': XGBClassifier(),\n",
    "        'Naive Bayes': GaussianNB(),\n",
    "        'Decision Tree': DecisionTreeClassifier(),\n",
    "        'Neural Network': KerasClassifier(build_fn=createANN, epochs=10, batch_size=16, verbose=0)\n",
    "    }\n",
    "\n",
    "    for model_name in models:\n",
    "        models[model_name] = Pipeline([\n",
    "            ('preprocessor', preprocessor),\n",
    "            ('model', models[model_name])\n",
    "        ])\n",
    "\n",
    "    return models\n",
    "\n",
    "\n",
    "def create_grid_models(models_pipeline):\n",
    "    models = {\n",
    "        'Logistic Regression': LogisticRegression(),\n",
    "        'Random Forest': RandomForestClassifier(),\n",
    "        'KNN': KNeighborsClassifier(),\n",
    "        'XGBoost': XGBClassifier(),\n",
    "        'Naive Bayes': GaussianNB(),\n",
    "        'Decision Tree': DecisionTreeClassifier(),\n",
    "        'Neural Network': KerasClassifier(build_fn=createANN, epochs=10, batch_size=16, verbose=0)\n",
    "    }\n",
    "\n",
    "    param_grids = {\n",
    "        'Logistic Regression': {\n",
    "            'model__C': np.logspace(-4, 4, 20),\n",
    "            'model__solver': ['liblinear'],\n",
    "            'model__penalty': ['l1', 'l2'],\n",
    "        },\n",
    "        'Random Forest': {\n",
    "            'model__n_estimators': [1000,1500,2000],\n",
    "            'model__max_depth': [10, 50, 100],\n",
    "            'model__min_samples_split': [2, 5, 10],\n",
    "            'model__min_samples_leaf': [1, 2, 4],\n",
    "        },\n",
    "        'KNN': {\n",
    "            'model__n_neighbors': [10, 15, 20, 25],\n",
    "            'model__metric': ['euclidean', 'manhattan'],\n",
    "            'model__weights': ['uniform', 'distance'],\n",
    "            # 'model__p': [1, 2],\n",
    "            'model__leaf_size': [20, 30, 50]\n",
    "        },\n",
    "        'XGBoost': {\n",
    "            'model__n_estimators': [500, 1000, 1500],\n",
    "            'model__max_depth': [3, 4, 5],\n",
    "            'model__learning_rate': [0.1, 0.01],\n",
    "            'model__subsample': [0.6, 0.8, 1.0],\n",
    "        },\n",
    "        'Naive Bayes': {\n",
    "            'model__var_smoothing': np.logspace(0, -9, num=100)\n",
    "        },\n",
    "        'Decision Tree': {\n",
    "            'model__max_depth': [3, 5, 10],\n",
    "            'model__min_samples_leaf': [20, 50, 100],\n",
    "            'model__criterion': [\"gini\", \"entropy\"],\n",
    "            'model__min_samples_split': [2, 5, 10]\n",
    "        },\n",
    "        'Neural Network': {\n",
    "            'model__activation': ['relu', 'sigmoid'],\n",
    "            'model__optimizer': ['adam', 'sgd'],\n",
    "            'model__loss': ['binary_crossentropy'],\n",
    "            'model__epochs': [10, 50, 100],\n",
    "            'model__batch_size': [8, 16, 32]\n",
    "        }\n",
    "    }\n",
    "\n",
    "    for model_name in models:\n",
    "        models[model_name] = GridSearchCV(models_pipeline[model_name], param_grids[model_name], n_jobs=-1)\n",
    "\n",
    "    return models\n",
    "\n",
    "\n",
    "\n",
    "def create_models(preprocessor, with_grid):\n",
    "    np.random.seed(42)\n",
    "\n",
    "    modelsPipeline = create_baseline_models(preprocessor)\n",
    "\n",
    "    if with_grid:\n",
    "        modelsGrid = create_grid_models(modelsPipeline)\n",
    "        return modelsGrid\n",
    "\n",
    "    return modelsPipeline\n",
    "\n",
    "\n",
    "def preprocessing_data(cat_features, num_features, scaler, encoder):\n",
    "    ## Tratamento para variáveis categóricas\n",
    "    cat_transformer = Pipeline(steps = [\n",
    "        ('encoder', encoder)\n",
    "    ])\n",
    "\n",
    "    ## Tratamento para variáveis numéricas\n",
    "    num_transformer = Pipeline(steps = [\n",
    "        ('scaler', scaler)\n",
    "    ])\n",
    "\n",
    "    ## Transformando os dados\n",
    "    preprocessor = ColumnTransformer(transformers = [\n",
    "        ('numbers', num_transformer, num_features),\n",
    "        ('categories', cat_transformer, cat_features)\n",
    "    ])\n",
    "\n",
    "    ## Retornando o processador de dados\n",
    "    return preprocessor\n",
    "\n",
    "def format_metrics(scores):\n",
    "    avg = round(np.mean(scores), 2)\n",
    "    std = round(np.std(scores), 2)\n",
    "    return f'{str(avg)} ({str(std)})'\n",
    "\n",
    "def extract_metrics(dictionary):\n",
    "    data = {}\n",
    "    \n",
    "    for sample_name, sample_data in dictionary.items():\n",
    "        data[sample_name] = {}\n",
    "        \n",
    "        sample_data = sample_data.rename(columns=lambda x: x.strip())  # Remove leading/trailing whitespace from column names\n",
    "        \n",
    "        for model_name, metrics in sample_data.items():\n",
    "            data[sample_name][model_name] = {}\n",
    "            \n",
    "            for metric_name, metric_value in metrics.iteritems():\n",
    "                metric = metric_name.strip()  # Remove leading/trailing whitespace from metric name\n",
    "                data[sample_name][model_name][metric] = metric_value\n",
    "    \n",
    "    # Creating the DataFrame\n",
    "    df = pd.DataFrame()\n",
    "    \n",
    "    for sample_name, models in data.items():\n",
    "        sample_df = pd.DataFrame.from_dict(models, orient='index')\n",
    "        sample_df.insert(0, 'Data', sample_name)\n",
    "        df = pd.concat([df, sample_df], axis=0)\n",
    "    \n",
    "    df = df.reset_index().rename(columns={'index': 'Model'})\n",
    "    df = df.set_index(['Data', 'Model'])\n",
    "    \n",
    "    return df\n",
    "\n",
    "\n",
    "\n",
    "def train_models(X, y, models, cv, with_grid):\n",
    "    scoring = ('accuracy', 'precision', 'recall', 'f1')\n",
    "    models_scores = {}\n",
    "\n",
    "    for model_name, model in models.items():\n",
    "        start_time = time.time()\n",
    "\n",
    "        if with_grid:\n",
    "            model.fit(X, y)\n",
    "            best_params = model.best_params_\n",
    "            print(f\"{model_name}'s best params are: {best_params}\")\n",
    "\n",
    "            # Create a new model with the best parameters\n",
    "            model = model.best_estimator_\n",
    "            model.set_params(**best_params)\n",
    "\n",
    "            # Train the new model with the best parameters\n",
    "            scores = cross_validate(model, X, y, cv=cv, scoring=scoring)\n",
    "\n",
    "            cross_metrics = {\n",
    "            'accuracy': format_metrics(scores['test_accuracy']),\n",
    "            'precision': format_metrics(scores['test_precision']),\n",
    "            'recall': format_metrics(scores['test_recall']),\n",
    "            'f1': format_metrics(scores['test_f1'])\n",
    "            }\n",
    "\n",
    "            df = pd.DataFrame(cross_metrics, index=[0])  # Add index to the DataFrame\n",
    "            file_path = f\"grid_100k_samples/{dataName}_{model_name}.csv\"\n",
    "            df.to_csv(file_path, index=False)\n",
    "\n",
    "        else:\n",
    "            # model.fit(X, y)\n",
    "            scores = cross_validate(model, X, y, cv=cv, scoring=scoring)\n",
    "            cross_metrics = {\n",
    "            'accuracy': format_metrics(scores['test_accuracy']),\n",
    "            'precision': format_metrics(scores['test_precision']),\n",
    "            'recall': format_metrics(scores['test_recall']),\n",
    "            'f1': format_metrics(scores['test_f1'])\n",
    "            }\n",
    "\n",
    "            df = pd.DataFrame(cross_metrics, index=[0])  # Add index to the DataFrame\n",
    "            file_path = f\"no_grid_100k_samples/{dataName}_{model_name}.csv\"\n",
    "            df.to_csv(file_path, index=False)\n",
    "\n",
    "        models_scores[model_name] = cross_metrics\n",
    "\n",
    "        end_time = time.time()\n",
    "        print(f'{model_name}: {round(end_time - start_time, 2)} seconds')\n",
    "\n",
    "    return models_scores\n",
    "\n",
    "\n",
    "def run_models(X, y, cat_features, num_features, scaler, encoder, with_grid=False):\n",
    "    global num_of_features\n",
    "    num_of_features = len(cat_features) + len(num_features)\n",
    "\n",
    "    preprocessor = preprocessing_data(cat_features=cat_features, num_features=num_features, scaler=scaler, encoder=encoder)\n",
    "\n",
    "    models = create_models(preprocessor, with_grid)\n",
    "    skf = StratifiedKFold(n_splits=10)\n",
    "    \n",
    "    models_scores = train_models(X, y, models, skf, with_grid = with_grid)\n",
    "\n",
    "    models_scores = pd.DataFrame(models_scores)\n",
    "    models_acc = models_scores.loc['accuracy'].values\n",
    "    models_names = models.keys()\n",
    "    return models_acc, models_scores, models_names\n",
    "\n",
    "\n",
    "def data_pipeline(data_dict, with_grid = False):\n",
    "    models_acc = {}\n",
    "    models_metrics = {}\n",
    "\n",
    "    for data_name, data in data_dict.items():\n",
    "        print(f'---{data_name} started---', end='\\n\\n')\n",
    "        start_time = time.time()\n",
    "        global dataName\n",
    "        dataName = data_name\n",
    "\n",
    "        X, y = splitData(data, ['flWinner'], 'flWinner')\n",
    "        cat_features, num_features = separateFeatures(X, [])\n",
    "        \n",
    "        models_acc[data_name], models_metrics[data_name], models_names = run_models(\n",
    "            X, y, cat_features, num_features, StandardScaler(), OneHotEncoder(handle_unknown='ignore'), with_grid = with_grid\n",
    "        )\n",
    "\n",
    "        end_time = time.time()\n",
    "        print(f'\\n---{data_name}: completed in {round(end_time - start_time, 2)} seconds---', end='\\n\\n')\n",
    "\n",
    "    models_acc = pd.DataFrame(models_acc, index=models_names)\n",
    "    return models_acc, models_metrics"
   ]
  },
  {
   "cell_type": "code",
   "execution_count": 6,
   "metadata": {},
   "outputs": [
    {
     "data": {
      "text/plain": [
       "Index(['qtKill', 'qtAssist', 'qtDeath', 'qtHs', 'qtBombeDefuse',\n",
       "       'qtBombePlant', 'qtTk', 'qtTkAssist', 'qt1Kill', 'qt2Kill', 'qt3Kill',\n",
       "       'qt4Kill', 'qt5Kill', 'qtFirstKill', 'vlDamage', 'qtHits', 'qtShots',\n",
       "       'qtLastAlive', 'qtClutchWon', 'qtRoundsPlayed', 'vlLevel', 'qtSurvived',\n",
       "       'qtTrade', 'qtFlashAssist', 'qtHitHeadshot', 'qtHitChest',\n",
       "       'qtHitStomach', 'qtHitLeftAtm', 'qtHitRightArm', 'qtHitLeftLeg',\n",
       "       'qtHitRightLeg', 'kpr', 'dpr', 'kd', 'diff', 'descMapName_de_ancient',\n",
       "       'descMapName_de_dust2', 'descMapName_de_inferno',\n",
       "       'descMapName_de_mirage', 'descMapName_de_nuke',\n",
       "       'descMapName_de_overpass', 'descMapName_de_train',\n",
       "       'descMapName_de_vertigo', 'flWinner'],\n",
       "      dtype='object')"
      ]
     },
     "execution_count": 6,
     "metadata": {},
     "output_type": "execute_result"
    }
   ],
   "source": [
    "sample_lobby_players.columns"
   ]
  },
  {
   "cell_type": "code",
   "execution_count": 7,
   "metadata": {},
   "outputs": [
    {
     "data": {
      "text/plain": [
       "Index(['PC1', 'PC2', 'PC3', 'PC4', 'PC5', 'flWinner'], dtype='object')"
      ]
     },
     "execution_count": 7,
     "metadata": {},
     "output_type": "execute_result"
    }
   ],
   "source": [
    "sample_pca.columns"
   ]
  },
  {
   "cell_type": "code",
   "execution_count": 8,
   "metadata": {},
   "outputs": [
    {
     "data": {
      "text/plain": [
       "Index(['dpr', 'qtSurvived', 'kd', 'diff', 'qtDeath', 'kpr', 'qtKill',\n",
       "       'vlDamage', 'qt2Kill', 'qtShots', 'flWinner'],\n",
       "      dtype='object')"
      ]
     },
     "execution_count": 8,
     "metadata": {},
     "output_type": "execute_result"
    }
   ],
   "source": [
    "sample_beast_features.columns"
   ]
  },
  {
   "cell_type": "markdown",
   "metadata": {},
   "source": [
    "# Test models"
   ]
  },
  {
   "cell_type": "code",
   "execution_count": 9,
   "metadata": {},
   "outputs": [
    {
     "name": "stdout",
     "output_type": "stream",
     "text": [
      "---lobby stats started---\n",
      "\n"
     ]
    },
    {
     "name": "stderr",
     "output_type": "stream",
     "text": [
      "c:\\Users\\Lucas\\AppData\\Local\\Programs\\Python\\Python39\\lib\\site-packages\\sklearn\\linear_model\\_logistic.py:458: ConvergenceWarning:\n",
      "\n",
      "lbfgs failed to converge (status=1):\n",
      "STOP: TOTAL NO. of ITERATIONS REACHED LIMIT.\n",
      "\n",
      "Increase the number of iterations (max_iter) or scale the data as shown in:\n",
      "    https://scikit-learn.org/stable/modules/preprocessing.html\n",
      "Please also refer to the documentation for alternative solver options:\n",
      "    https://scikit-learn.org/stable/modules/linear_model.html#logistic-regression\n",
      "\n",
      "c:\\Users\\Lucas\\AppData\\Local\\Programs\\Python\\Python39\\lib\\site-packages\\sklearn\\linear_model\\_logistic.py:458: ConvergenceWarning:\n",
      "\n",
      "lbfgs failed to converge (status=1):\n",
      "STOP: TOTAL NO. of ITERATIONS REACHED LIMIT.\n",
      "\n",
      "Increase the number of iterations (max_iter) or scale the data as shown in:\n",
      "    https://scikit-learn.org/stable/modules/preprocessing.html\n",
      "Please also refer to the documentation for alternative solver options:\n",
      "    https://scikit-learn.org/stable/modules/linear_model.html#logistic-regression\n",
      "\n",
      "c:\\Users\\Lucas\\AppData\\Local\\Programs\\Python\\Python39\\lib\\site-packages\\sklearn\\linear_model\\_logistic.py:458: ConvergenceWarning:\n",
      "\n",
      "lbfgs failed to converge (status=1):\n",
      "STOP: TOTAL NO. of ITERATIONS REACHED LIMIT.\n",
      "\n",
      "Increase the number of iterations (max_iter) or scale the data as shown in:\n",
      "    https://scikit-learn.org/stable/modules/preprocessing.html\n",
      "Please also refer to the documentation for alternative solver options:\n",
      "    https://scikit-learn.org/stable/modules/linear_model.html#logistic-regression\n",
      "\n",
      "c:\\Users\\Lucas\\AppData\\Local\\Programs\\Python\\Python39\\lib\\site-packages\\sklearn\\linear_model\\_logistic.py:458: ConvergenceWarning:\n",
      "\n",
      "lbfgs failed to converge (status=1):\n",
      "STOP: TOTAL NO. of ITERATIONS REACHED LIMIT.\n",
      "\n",
      "Increase the number of iterations (max_iter) or scale the data as shown in:\n",
      "    https://scikit-learn.org/stable/modules/preprocessing.html\n",
      "Please also refer to the documentation for alternative solver options:\n",
      "    https://scikit-learn.org/stable/modules/linear_model.html#logistic-regression\n",
      "\n",
      "c:\\Users\\Lucas\\AppData\\Local\\Programs\\Python\\Python39\\lib\\site-packages\\sklearn\\linear_model\\_logistic.py:458: ConvergenceWarning:\n",
      "\n",
      "lbfgs failed to converge (status=1):\n",
      "STOP: TOTAL NO. of ITERATIONS REACHED LIMIT.\n",
      "\n",
      "Increase the number of iterations (max_iter) or scale the data as shown in:\n",
      "    https://scikit-learn.org/stable/modules/preprocessing.html\n",
      "Please also refer to the documentation for alternative solver options:\n",
      "    https://scikit-learn.org/stable/modules/linear_model.html#logistic-regression\n",
      "\n",
      "c:\\Users\\Lucas\\AppData\\Local\\Programs\\Python\\Python39\\lib\\site-packages\\sklearn\\linear_model\\_logistic.py:458: ConvergenceWarning:\n",
      "\n",
      "lbfgs failed to converge (status=1):\n",
      "STOP: TOTAL NO. of ITERATIONS REACHED LIMIT.\n",
      "\n",
      "Increase the number of iterations (max_iter) or scale the data as shown in:\n",
      "    https://scikit-learn.org/stable/modules/preprocessing.html\n",
      "Please also refer to the documentation for alternative solver options:\n",
      "    https://scikit-learn.org/stable/modules/linear_model.html#logistic-regression\n",
      "\n",
      "c:\\Users\\Lucas\\AppData\\Local\\Programs\\Python\\Python39\\lib\\site-packages\\sklearn\\linear_model\\_logistic.py:458: ConvergenceWarning:\n",
      "\n",
      "lbfgs failed to converge (status=1):\n",
      "STOP: TOTAL NO. of ITERATIONS REACHED LIMIT.\n",
      "\n",
      "Increase the number of iterations (max_iter) or scale the data as shown in:\n",
      "    https://scikit-learn.org/stable/modules/preprocessing.html\n",
      "Please also refer to the documentation for alternative solver options:\n",
      "    https://scikit-learn.org/stable/modules/linear_model.html#logistic-regression\n",
      "\n",
      "c:\\Users\\Lucas\\AppData\\Local\\Programs\\Python\\Python39\\lib\\site-packages\\sklearn\\linear_model\\_logistic.py:458: ConvergenceWarning:\n",
      "\n",
      "lbfgs failed to converge (status=1):\n",
      "STOP: TOTAL NO. of ITERATIONS REACHED LIMIT.\n",
      "\n",
      "Increase the number of iterations (max_iter) or scale the data as shown in:\n",
      "    https://scikit-learn.org/stable/modules/preprocessing.html\n",
      "Please also refer to the documentation for alternative solver options:\n",
      "    https://scikit-learn.org/stable/modules/linear_model.html#logistic-regression\n",
      "\n",
      "c:\\Users\\Lucas\\AppData\\Local\\Programs\\Python\\Python39\\lib\\site-packages\\sklearn\\linear_model\\_logistic.py:458: ConvergenceWarning:\n",
      "\n",
      "lbfgs failed to converge (status=1):\n",
      "STOP: TOTAL NO. of ITERATIONS REACHED LIMIT.\n",
      "\n",
      "Increase the number of iterations (max_iter) or scale the data as shown in:\n",
      "    https://scikit-learn.org/stable/modules/preprocessing.html\n",
      "Please also refer to the documentation for alternative solver options:\n",
      "    https://scikit-learn.org/stable/modules/linear_model.html#logistic-regression\n",
      "\n",
      "c:\\Users\\Lucas\\AppData\\Local\\Programs\\Python\\Python39\\lib\\site-packages\\sklearn\\linear_model\\_logistic.py:458: ConvergenceWarning:\n",
      "\n",
      "lbfgs failed to converge (status=1):\n",
      "STOP: TOTAL NO. of ITERATIONS REACHED LIMIT.\n",
      "\n",
      "Increase the number of iterations (max_iter) or scale the data as shown in:\n",
      "    https://scikit-learn.org/stable/modules/preprocessing.html\n",
      "Please also refer to the documentation for alternative solver options:\n",
      "    https://scikit-learn.org/stable/modules/linear_model.html#logistic-regression\n",
      "\n"
     ]
    },
    {
     "name": "stdout",
     "output_type": "stream",
     "text": [
      "Logistic Regression: 22.58 seconds\n",
      "Random Forest: 290.22 seconds\n",
      "KNN: 30.48 seconds\n",
      "XGBoost: 82.17 seconds\n",
      "Naive Bayes: 3.57 seconds\n",
      "Decision Tree: 30.63 seconds\n",
      "Neural Network: 460.67 seconds\n",
      "\n",
      "---lobby stats: completed in 920.35 seconds---\n",
      "\n",
      "---best features lobby started---\n",
      "\n",
      "Logistic Regression: 3.74 seconds\n",
      "Random Forest: 244.22 seconds\n",
      "KNN: 20.09 seconds\n",
      "XGBoost: 46.96 seconds\n",
      "Naive Bayes: 1.11 seconds\n",
      "Decision Tree: 10.06 seconds\n",
      "Neural Network: 411.11 seconds\n",
      "\n",
      "---best features lobby: completed in 737.31 seconds---\n",
      "\n",
      "---pca lobby started---\n",
      "\n",
      "Logistic Regression: 1.01 seconds\n",
      "Random Forest: 481.13 seconds\n",
      "KNN: 9.79 seconds\n",
      "XGBoost: 87.4 seconds\n",
      "Naive Bayes: 0.83 seconds\n",
      "Decision Tree: 12.47 seconds\n",
      "Neural Network: 392.55 seconds\n",
      "\n",
      "---pca lobby: completed in 985.18 seconds---\n",
      "\n"
     ]
    },
    {
     "data": {
      "text/html": [
       "<div>\n",
       "<style scoped>\n",
       "    .dataframe tbody tr th:only-of-type {\n",
       "        vertical-align: middle;\n",
       "    }\n",
       "\n",
       "    .dataframe tbody tr th {\n",
       "        vertical-align: top;\n",
       "    }\n",
       "\n",
       "    .dataframe thead th {\n",
       "        text-align: right;\n",
       "    }\n",
       "</style>\n",
       "<table border=\"1\" class=\"dataframe\">\n",
       "  <thead>\n",
       "    <tr style=\"text-align: right;\">\n",
       "      <th></th>\n",
       "      <th>lobby stats</th>\n",
       "      <th>best features lobby</th>\n",
       "      <th>pca lobby</th>\n",
       "    </tr>\n",
       "  </thead>\n",
       "  <tbody>\n",
       "    <tr>\n",
       "      <th>Logistic Regression</th>\n",
       "      <td>0.8 (0.0)</td>\n",
       "      <td>0.77 (0.0)</td>\n",
       "      <td>0.75 (0.01)</td>\n",
       "    </tr>\n",
       "    <tr>\n",
       "      <th>Random Forest</th>\n",
       "      <td>0.79 (0.01)</td>\n",
       "      <td>0.75 (0.0)</td>\n",
       "      <td>0.74 (0.0)</td>\n",
       "    </tr>\n",
       "    <tr>\n",
       "      <th>KNN</th>\n",
       "      <td>0.74 (0.0)</td>\n",
       "      <td>0.74 (0.0)</td>\n",
       "      <td>0.73 (0.0)</td>\n",
       "    </tr>\n",
       "    <tr>\n",
       "      <th>XGBoost</th>\n",
       "      <td>0.8 (0.0)</td>\n",
       "      <td>0.77 (0.0)</td>\n",
       "      <td>0.75 (0.0)</td>\n",
       "    </tr>\n",
       "    <tr>\n",
       "      <th>Naive Bayes</th>\n",
       "      <td>0.71 (0.01)</td>\n",
       "      <td>0.73 (0.0)</td>\n",
       "      <td>0.73 (0.01)</td>\n",
       "    </tr>\n",
       "    <tr>\n",
       "      <th>Decision Tree</th>\n",
       "      <td>0.73 (0.0)</td>\n",
       "      <td>0.7 (0.0)</td>\n",
       "      <td>0.68 (0.01)</td>\n",
       "    </tr>\n",
       "    <tr>\n",
       "      <th>Neural Network</th>\n",
       "      <td>0.8 (0.0)</td>\n",
       "      <td>0.77 (0.0)</td>\n",
       "      <td>0.75 (0.0)</td>\n",
       "    </tr>\n",
       "  </tbody>\n",
       "</table>\n",
       "</div>"
      ],
      "text/plain": [
       "                     lobby stats best features lobby    pca lobby\n",
       "Logistic Regression    0.8 (0.0)          0.77 (0.0)  0.75 (0.01)\n",
       "Random Forest        0.79 (0.01)          0.75 (0.0)   0.74 (0.0)\n",
       "KNN                   0.74 (0.0)          0.74 (0.0)   0.73 (0.0)\n",
       "XGBoost                0.8 (0.0)          0.77 (0.0)   0.75 (0.0)\n",
       "Naive Bayes          0.71 (0.01)          0.73 (0.0)  0.73 (0.01)\n",
       "Decision Tree         0.73 (0.0)           0.7 (0.0)  0.68 (0.01)\n",
       "Neural Network         0.8 (0.0)          0.77 (0.0)   0.75 (0.0)"
      ]
     },
     "execution_count": 9,
     "metadata": {},
     "output_type": "execute_result"
    }
   ],
   "source": [
    "data = {\n",
    "    'lobby stats': sample_lobby_players,\n",
    "    'best features lobby': sample_beast_features,\n",
    "    'pca lobby': sample_pca\n",
    "}\n",
    "\n",
    "no_grid_accuracy, no_grid_all_metrics = data_pipeline(data, with_grid=False)\n",
    "no_grid_accuracy"
   ]
  },
  {
   "cell_type": "code",
   "execution_count": 10,
   "metadata": {},
   "outputs": [
    {
     "data": {
      "text/html": [
       "<div>\n",
       "<style scoped>\n",
       "    .dataframe tbody tr th:only-of-type {\n",
       "        vertical-align: middle;\n",
       "    }\n",
       "\n",
       "    .dataframe tbody tr th {\n",
       "        vertical-align: top;\n",
       "    }\n",
       "\n",
       "    .dataframe thead th {\n",
       "        text-align: right;\n",
       "    }\n",
       "</style>\n",
       "<table border=\"1\" class=\"dataframe\">\n",
       "  <thead>\n",
       "    <tr style=\"text-align: right;\">\n",
       "      <th></th>\n",
       "      <th></th>\n",
       "      <th>accuracy</th>\n",
       "      <th>precision</th>\n",
       "      <th>recall</th>\n",
       "      <th>f1</th>\n",
       "    </tr>\n",
       "    <tr>\n",
       "      <th>Data</th>\n",
       "      <th>Model</th>\n",
       "      <th></th>\n",
       "      <th></th>\n",
       "      <th></th>\n",
       "      <th></th>\n",
       "    </tr>\n",
       "  </thead>\n",
       "  <tbody>\n",
       "    <tr>\n",
       "      <th rowspan=\"7\" valign=\"top\">lobby stats</th>\n",
       "      <th>Logistic Regression</th>\n",
       "      <td>0.8 (0.0)</td>\n",
       "      <td>0.8 (0.0)</td>\n",
       "      <td>0.79 (0.01)</td>\n",
       "      <td>0.8 (0.0)</td>\n",
       "    </tr>\n",
       "    <tr>\n",
       "      <th>Random Forest</th>\n",
       "      <td>0.79 (0.01)</td>\n",
       "      <td>0.8 (0.01)</td>\n",
       "      <td>0.76 (0.01)</td>\n",
       "      <td>0.78 (0.01)</td>\n",
       "    </tr>\n",
       "    <tr>\n",
       "      <th>KNN</th>\n",
       "      <td>0.74 (0.0)</td>\n",
       "      <td>0.74 (0.0)</td>\n",
       "      <td>0.73 (0.01)</td>\n",
       "      <td>0.74 (0.0)</td>\n",
       "    </tr>\n",
       "    <tr>\n",
       "      <th>XGBoost</th>\n",
       "      <td>0.8 (0.0)</td>\n",
       "      <td>0.8 (0.0)</td>\n",
       "      <td>0.78 (0.01)</td>\n",
       "      <td>0.79 (0.0)</td>\n",
       "    </tr>\n",
       "    <tr>\n",
       "      <th>Naive Bayes</th>\n",
       "      <td>0.71 (0.01)</td>\n",
       "      <td>0.72 (0.0)</td>\n",
       "      <td>0.69 (0.01)</td>\n",
       "      <td>0.7 (0.01)</td>\n",
       "    </tr>\n",
       "    <tr>\n",
       "      <th>Decision Tree</th>\n",
       "      <td>0.73 (0.0)</td>\n",
       "      <td>0.72 (0.0)</td>\n",
       "      <td>0.73 (0.0)</td>\n",
       "      <td>0.72 (0.0)</td>\n",
       "    </tr>\n",
       "    <tr>\n",
       "      <th>Neural Network</th>\n",
       "      <td>0.8 (0.0)</td>\n",
       "      <td>0.81 (0.01)</td>\n",
       "      <td>0.78 (0.02)</td>\n",
       "      <td>0.79 (0.0)</td>\n",
       "    </tr>\n",
       "    <tr>\n",
       "      <th rowspan=\"7\" valign=\"top\">best features lobby</th>\n",
       "      <th>Logistic Regression</th>\n",
       "      <td>0.77 (0.0)</td>\n",
       "      <td>0.77 (0.0)</td>\n",
       "      <td>0.76 (0.01)</td>\n",
       "      <td>0.76 (0.0)</td>\n",
       "    </tr>\n",
       "    <tr>\n",
       "      <th>Random Forest</th>\n",
       "      <td>0.75 (0.0)</td>\n",
       "      <td>0.76 (0.0)</td>\n",
       "      <td>0.73 (0.01)</td>\n",
       "      <td>0.74 (0.0)</td>\n",
       "    </tr>\n",
       "    <tr>\n",
       "      <th>KNN</th>\n",
       "      <td>0.74 (0.0)</td>\n",
       "      <td>0.74 (0.0)</td>\n",
       "      <td>0.73 (0.0)</td>\n",
       "      <td>0.74 (0.0)</td>\n",
       "    </tr>\n",
       "    <tr>\n",
       "      <th>XGBoost</th>\n",
       "      <td>0.77 (0.0)</td>\n",
       "      <td>0.78 (0.0)</td>\n",
       "      <td>0.74 (0.01)</td>\n",
       "      <td>0.76 (0.0)</td>\n",
       "    </tr>\n",
       "    <tr>\n",
       "      <th>Naive Bayes</th>\n",
       "      <td>0.73 (0.0)</td>\n",
       "      <td>0.75 (0.0)</td>\n",
       "      <td>0.69 (0.01)</td>\n",
       "      <td>0.72 (0.0)</td>\n",
       "    </tr>\n",
       "    <tr>\n",
       "      <th>Decision Tree</th>\n",
       "      <td>0.7 (0.0)</td>\n",
       "      <td>0.7 (0.0)</td>\n",
       "      <td>0.7 (0.0)</td>\n",
       "      <td>0.7 (0.0)</td>\n",
       "    </tr>\n",
       "    <tr>\n",
       "      <th>Neural Network</th>\n",
       "      <td>0.77 (0.0)</td>\n",
       "      <td>0.79 (0.01)</td>\n",
       "      <td>0.73 (0.02)</td>\n",
       "      <td>0.76 (0.01)</td>\n",
       "    </tr>\n",
       "    <tr>\n",
       "      <th rowspan=\"7\" valign=\"top\">pca lobby</th>\n",
       "      <th>Logistic Regression</th>\n",
       "      <td>0.75 (0.01)</td>\n",
       "      <td>0.75 (0.0)</td>\n",
       "      <td>0.73 (0.01)</td>\n",
       "      <td>0.74 (0.01)</td>\n",
       "    </tr>\n",
       "    <tr>\n",
       "      <th>Random Forest</th>\n",
       "      <td>0.74 (0.0)</td>\n",
       "      <td>0.75 (0.01)</td>\n",
       "      <td>0.72 (0.01)</td>\n",
       "      <td>0.73 (0.0)</td>\n",
       "    </tr>\n",
       "    <tr>\n",
       "      <th>KNN</th>\n",
       "      <td>0.73 (0.0)</td>\n",
       "      <td>0.72 (0.0)</td>\n",
       "      <td>0.72 (0.01)</td>\n",
       "      <td>0.72 (0.01)</td>\n",
       "    </tr>\n",
       "    <tr>\n",
       "      <th>XGBoost</th>\n",
       "      <td>0.75 (0.0)</td>\n",
       "      <td>0.76 (0.0)</td>\n",
       "      <td>0.72 (0.01)</td>\n",
       "      <td>0.74 (0.01)</td>\n",
       "    </tr>\n",
       "    <tr>\n",
       "      <th>Naive Bayes</th>\n",
       "      <td>0.73 (0.01)</td>\n",
       "      <td>0.75 (0.01)</td>\n",
       "      <td>0.69 (0.01)</td>\n",
       "      <td>0.72 (0.01)</td>\n",
       "    </tr>\n",
       "    <tr>\n",
       "      <th>Decision Tree</th>\n",
       "      <td>0.68 (0.01)</td>\n",
       "      <td>0.67 (0.01)</td>\n",
       "      <td>0.67 (0.01)</td>\n",
       "      <td>0.67 (0.01)</td>\n",
       "    </tr>\n",
       "    <tr>\n",
       "      <th>Neural Network</th>\n",
       "      <td>0.75 (0.0)</td>\n",
       "      <td>0.75 (0.01)</td>\n",
       "      <td>0.74 (0.02)</td>\n",
       "      <td>0.75 (0.01)</td>\n",
       "    </tr>\n",
       "  </tbody>\n",
       "</table>\n",
       "</div>"
      ],
      "text/plain": [
       "                                            accuracy    precision  \\\n",
       "Data                Model                                           \n",
       "lobby stats         Logistic Regression    0.8 (0.0)    0.8 (0.0)   \n",
       "                    Random Forest        0.79 (0.01)   0.8 (0.01)   \n",
       "                    KNN                   0.74 (0.0)   0.74 (0.0)   \n",
       "                    XGBoost                0.8 (0.0)    0.8 (0.0)   \n",
       "                    Naive Bayes          0.71 (0.01)   0.72 (0.0)   \n",
       "                    Decision Tree         0.73 (0.0)   0.72 (0.0)   \n",
       "                    Neural Network         0.8 (0.0)  0.81 (0.01)   \n",
       "best features lobby Logistic Regression   0.77 (0.0)   0.77 (0.0)   \n",
       "                    Random Forest         0.75 (0.0)   0.76 (0.0)   \n",
       "                    KNN                   0.74 (0.0)   0.74 (0.0)   \n",
       "                    XGBoost               0.77 (0.0)   0.78 (0.0)   \n",
       "                    Naive Bayes           0.73 (0.0)   0.75 (0.0)   \n",
       "                    Decision Tree          0.7 (0.0)    0.7 (0.0)   \n",
       "                    Neural Network        0.77 (0.0)  0.79 (0.01)   \n",
       "pca lobby           Logistic Regression  0.75 (0.01)   0.75 (0.0)   \n",
       "                    Random Forest         0.74 (0.0)  0.75 (0.01)   \n",
       "                    KNN                   0.73 (0.0)   0.72 (0.0)   \n",
       "                    XGBoost               0.75 (0.0)   0.76 (0.0)   \n",
       "                    Naive Bayes          0.73 (0.01)  0.75 (0.01)   \n",
       "                    Decision Tree        0.68 (0.01)  0.67 (0.01)   \n",
       "                    Neural Network        0.75 (0.0)  0.75 (0.01)   \n",
       "\n",
       "                                              recall           f1  \n",
       "Data                Model                                          \n",
       "lobby stats         Logistic Regression  0.79 (0.01)    0.8 (0.0)  \n",
       "                    Random Forest        0.76 (0.01)  0.78 (0.01)  \n",
       "                    KNN                  0.73 (0.01)   0.74 (0.0)  \n",
       "                    XGBoost              0.78 (0.01)   0.79 (0.0)  \n",
       "                    Naive Bayes          0.69 (0.01)   0.7 (0.01)  \n",
       "                    Decision Tree         0.73 (0.0)   0.72 (0.0)  \n",
       "                    Neural Network       0.78 (0.02)   0.79 (0.0)  \n",
       "best features lobby Logistic Regression  0.76 (0.01)   0.76 (0.0)  \n",
       "                    Random Forest        0.73 (0.01)   0.74 (0.0)  \n",
       "                    KNN                   0.73 (0.0)   0.74 (0.0)  \n",
       "                    XGBoost              0.74 (0.01)   0.76 (0.0)  \n",
       "                    Naive Bayes          0.69 (0.01)   0.72 (0.0)  \n",
       "                    Decision Tree          0.7 (0.0)    0.7 (0.0)  \n",
       "                    Neural Network       0.73 (0.02)  0.76 (0.01)  \n",
       "pca lobby           Logistic Regression  0.73 (0.01)  0.74 (0.01)  \n",
       "                    Random Forest        0.72 (0.01)   0.73 (0.0)  \n",
       "                    KNN                  0.72 (0.01)  0.72 (0.01)  \n",
       "                    XGBoost              0.72 (0.01)  0.74 (0.01)  \n",
       "                    Naive Bayes          0.69 (0.01)  0.72 (0.01)  \n",
       "                    Decision Tree        0.67 (0.01)  0.67 (0.01)  \n",
       "                    Neural Network       0.74 (0.02)  0.75 (0.01)  "
      ]
     },
     "execution_count": 10,
     "metadata": {},
     "output_type": "execute_result"
    }
   ],
   "source": [
    "no_grid_metrics_df = extract_metrics(no_grid_all_metrics)\n",
    "no_grid_metrics_df"
   ]
  },
  {
   "cell_type": "code",
   "execution_count": 11,
   "metadata": {},
   "outputs": [
    {
     "name": "stdout",
     "output_type": "stream",
     "text": [
      "---lobby stats started---\n",
      "\n"
     ]
    },
    {
     "name": "stdout",
     "output_type": "stream",
     "text": [
      "Logistic Regression's best params are: {'model__C': 1.623776739188721, 'model__penalty': 'l2', 'model__solver': 'liblinear'}\n",
      "Logistic Regression: 1701.08 seconds\n"
     ]
    }
   ],
   "source": [
    "grid_accuracy, grid_all_metrics = data_pipeline(data, with_grid=True)\n",
    "grid_accuracy"
   ]
  },
  {
   "cell_type": "code",
   "execution_count": null,
   "metadata": {},
   "outputs": [
    {
     "data": {
      "text/html": [
       "<div>\n",
       "<style scoped>\n",
       "    .dataframe tbody tr th:only-of-type {\n",
       "        vertical-align: middle;\n",
       "    }\n",
       "\n",
       "    .dataframe tbody tr th {\n",
       "        vertical-align: top;\n",
       "    }\n",
       "\n",
       "    .dataframe thead th {\n",
       "        text-align: right;\n",
       "    }\n",
       "</style>\n",
       "<table border=\"1\" class=\"dataframe\">\n",
       "  <thead>\n",
       "    <tr style=\"text-align: right;\">\n",
       "      <th></th>\n",
       "      <th></th>\n",
       "      <th>accuracy</th>\n",
       "      <th>f1</th>\n",
       "      <th>precision</th>\n",
       "      <th>recall</th>\n",
       "    </tr>\n",
       "    <tr>\n",
       "      <th>Data</th>\n",
       "      <th>Model</th>\n",
       "      <th></th>\n",
       "      <th></th>\n",
       "      <th></th>\n",
       "      <th></th>\n",
       "    </tr>\n",
       "  </thead>\n",
       "  <tbody>\n",
       "    <tr>\n",
       "      <th>lobby stats</th>\n",
       "      <th>Logistic Regression</th>\n",
       "      <td>0.78 (0.02)</td>\n",
       "      <td>0.78 (0.03)</td>\n",
       "      <td>0.77 (0.03)</td>\n",
       "      <td>0.79 (0.06)</td>\n",
       "    </tr>\n",
       "    <tr>\n",
       "      <th>best features lobby</th>\n",
       "      <th>Logistic Regression</th>\n",
       "      <td>0.77 (0.04)</td>\n",
       "      <td>0.76 (0.05)</td>\n",
       "      <td>0.76 (0.05)</td>\n",
       "      <td>0.77 (0.07)</td>\n",
       "    </tr>\n",
       "    <tr>\n",
       "      <th>pca lobby</th>\n",
       "      <th>Logistic Regression</th>\n",
       "      <td>0.77 (0.04)</td>\n",
       "      <td>0.76 (0.05)</td>\n",
       "      <td>0.77 (0.04)</td>\n",
       "      <td>0.76 (0.07)</td>\n",
       "    </tr>\n",
       "  </tbody>\n",
       "</table>\n",
       "</div>"
      ],
      "text/plain": [
       "                                            accuracy           f1  \\\n",
       "Data                Model                                           \n",
       "lobby stats         Logistic Regression  0.78 (0.02)  0.78 (0.03)   \n",
       "best features lobby Logistic Regression  0.77 (0.04)  0.76 (0.05)   \n",
       "pca lobby           Logistic Regression  0.77 (0.04)  0.76 (0.05)   \n",
       "\n",
       "                                           precision       recall  \n",
       "Data                Model                                          \n",
       "lobby stats         Logistic Regression  0.77 (0.03)  0.79 (0.06)  \n",
       "best features lobby Logistic Regression  0.76 (0.05)  0.77 (0.07)  \n",
       "pca lobby           Logistic Regression  0.77 (0.04)  0.76 (0.07)  "
      ]
     },
     "execution_count": 50,
     "metadata": {},
     "output_type": "execute_result"
    }
   ],
   "source": [
    "grid_metrics_df = extract_metrics(grid_all_metrics)\n",
    "grid_metrics_df"
   ]
  }
 ],
 "metadata": {
  "kernelspec": {
   "display_name": "Python 3",
   "language": "python",
   "name": "python3"
  },
  "language_info": {
   "codemirror_mode": {
    "name": "ipython",
    "version": 3
   },
   "file_extension": ".py",
   "mimetype": "text/x-python",
   "name": "python",
   "nbconvert_exporter": "python",
   "pygments_lexer": "ipython3",
   "version": "3.9.4"
  },
  "orig_nbformat": 4
 },
 "nbformat": 4,
 "nbformat_minor": 2
}
